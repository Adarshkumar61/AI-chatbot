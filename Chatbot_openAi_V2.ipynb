{
  "nbformat": 4,
  "nbformat_minor": 0,
  "metadata": {
    "colab": {
      "provenance": [],
      "authorship_tag": "ABX9TyN07x8p5nr3MXZ1mdaD/5Xg",
      "include_colab_link": true
    },
    "kernelspec": {
      "name": "python3",
      "display_name": "Python 3"
    },
    "language_info": {
      "name": "python"
    }
  },
  "cells": [
    {
      "cell_type": "markdown",
      "metadata": {
        "id": "view-in-github",
        "colab_type": "text"
      },
      "source": [
        "<a href=\"https://colab.research.google.com/github/Adarshkumar61/AI-chatbot/blob/main/Chatbot_openAi_V2.ipynb\" target=\"_parent\"><img src=\"https://colab.research.google.com/assets/colab-badge.svg\" alt=\"Open In Colab\"/></a>"
      ]
    },
    {
      "cell_type": "code",
      "source": [
        "from transformers import AutoModelForCausalLM, AutoTokenizer\n",
        "import torch\n",
        "\n",
        "\n",
        "tokenizer = AutoTokenizer.from_pretrained(\"microsoft/DialoGPT-medium\")\n",
        "model = AutoModelForCausalLM.from_pretrained(\"microsoft/DialoGPT-medium\")\n",
        "\n",
        "\n",
        "\n",
        "chat_history_ids = None\n",
        "step = 0\n",
        "\n",
        "while True:\n",
        "\n",
        "    user_input = input(\"You: \")\n",
        "    if user_input.lower() == \"exit\":\n",
        "        print(\"Bot: Goodbye! 👋\")\n",
        "        break\n",
        "\n",
        "    # Encode user input\n",
        "    new_input_ids = tokenizer.encode(user_input + tokenizer.eos_token, return_tensors='pt')\n",
        "\n",
        "    # Append input to chat history or start fresh\n",
        "    if step == 0:\n",
        "        bot_input_ids = new_input_ids\n",
        "    else:\n",
        "        bot_input_ids = torch.cat([chat_history_ids, new_input_ids], dim=-1)\n",
        "\n",
        "    # Generate response\n",
        "    chat_history_ids = model.generate(\n",
        "        bot_input_ids,\n",
        "        max_length=1000,\n",
        "        pad_token_id=tokenizer.eos_token_id,\n",
        "        do_sample=True,\n",
        "        temperature=0.8,\n",
        "        top_k=50,\n",
        "        top_p=0.95,\n",
        "    )\n",
        "\n",
        "    # Decode and print response\n",
        "    bot_reply = tokenizer.decode(chat_history_ids[:, bot_input_ids.shape[-1]:][0], skip_special_tokens=True)\n",
        "    print(f\"Bot: {bot_reply}\")\n",
        "\n",
        "    step += 1\n",
        "\n"
      ],
      "metadata": {
        "colab": {
          "base_uri": "https://localhost:8080/"
        },
        "id": "-kum-TPIpQVv",
        "outputId": "27d97bfe-b3ce-47e1-9006-79c714d5a399"
      },
      "execution_count": 4,
      "outputs": [
        {
          "output_type": "stream",
          "name": "stdout",
          "text": [
            "You: hi\n",
            "Bot: u dogetipbot 10 doge\n",
            "You: hlo\n",
            "Bot: doge\n",
            "You: how are you\n",
            "Bot: I'm good!\n",
            "You: what is 2+ 2\n",
            "Bot: That's a good question...\n",
            "You: so answer this question\n",
            "Bot: it's 2plus 2.\n",
            "You: hahahah\n",
            "Bot: Well thank you.\n",
            "You: quit\n",
            "Bot: Lol\n",
            "You: exit\n",
            "Bot: Goodbye! 👋\n"
          ]
        }
      ]
    }
  ]
}